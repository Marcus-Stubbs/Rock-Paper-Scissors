{
  "cells": [
    {
      "cell_type": "code",
      "execution_count": null,
      "metadata": {
        "colab": {
          "background_save": true,
          "base_uri": "https://localhost:8080/"
        },
        "id": "yTRakyPTu9d0",
        "outputId": "6b42d9c8-5602-4a79-87be-1915156a62c7"
      },
      "outputs": [
        {
          "name": "stdout",
          "output_type": "stream",
          "text": [
            "That's not a valid play. Check your spelling!\n",
            "You lose! Rock covers Paper\n",
            "You win! Paper covers Rock\n"
          ]
        }
      ],
      "source": [
        "from random import randint\n",
        "\n",
        "t = [\"Rock\", \"Paper\",\"Scissors\"]\n",
        "\n",
        "computer = t[randint(0,2)]\n",
        "player = False\n",
        "\n",
        "while player == False:\n",
        "  player = input(\"Rock, Paper, Scissors?\")\n",
        "  if player == computer:\n",
        "    print(\"Tie!\")\n",
        "  elif player == \"Rock\":\n",
        "    if computer == \"Paper\":\n",
        "      print(\"You lose!\", player, \"covers\", computer)\n",
        "    else:\n",
        "      print(\"You win!\", player, \"smashes\", computer)\n",
        "  elif player == \"Paper\": \n",
        "      if computer == \"Scissors\":\n",
        "        print(\"You lose!\", computer, \"cut\", player)\n",
        "      else: \n",
        "        print(\"You win!\", player, \"covers\", computer)\n",
        "  elif player == \"Scissors\":\n",
        "      if computer == \"Rock\":\n",
        "        print(\"You lose!\", computer, \"smashes\", player)\n",
        "      else:\n",
        "        print(\"You win!\", player, \"cut\", computer)\n",
        "  else:\n",
        "    print(\"That's not a valid play. Check your spelling!\")\n",
        "  player = False\n",
        "  computer = t[randint(0,2)]"
      ]
    }
  ],
  "metadata": {
    "colab": {
      "name": "Rock Paper Scissors.ipynb",
      "provenance": []
    },
    "kernelspec": {
      "display_name": "Python 3",
      "name": "python3"
    },
    "language_info": {
      "name": "python"
    }
  },
  "nbformat": 4,
  "nbformat_minor": 0
}